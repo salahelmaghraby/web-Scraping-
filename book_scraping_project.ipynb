{
 "cells": [
  {
   "cell_type": "code",
   "execution_count": 5,
   "id": "78147657",
   "metadata": {},
   "outputs": [],
   "source": [
    "import requests\n",
    "import csv\n",
    "from bs4 import BeautifulSoup\n",
    "pages = list(range(1, 5))\n",
    "w_head_off = 0\n",
    "with open (\"books scraping_2.csv\", \"w\",  newline=\"\", encoding=\"utf-8\") as f:\n",
    "    writer = csv.DictWriter(f, fieldnames=[\"book name\", \"book price\", \"book stars rate out of 5\"])\n",
    "    writer.writeheader()\n",
    "for page in pages:\n",
    "    response = requests.get(f\"https://books.toscrape.com/catalogue/page-{page}.html\")\n",
    "    soup = BeautifulSoup(response.text, \"html.parser\")\n",
    "    all_data = soup.find_all(\"article\", {\"class\" : \"product_pod\"})\n",
    "    with open (\"books scraping_2.csv\", \"a+\",  newline=\"\", encoding=\"utf-8\") as f:\n",
    "            writer = csv.DictWriter(f, fieldnames=[\"book name\", \"book price\", \"book stars rate out of 5\"])\n",
    "            for data in all_data:\n",
    "                name = data.find_all(\"a\")[1].get_text()\n",
    "                price = data.find(\"p\", {\"class\" : \"price_color\"}).text[1:]\n",
    "                rate =  data.find(\"p\").attrs[\"class\"][1]\n",
    "                writer.writerow({\"book name\":name, \"book price\": price, \"book stars rate out of 5\":rate})\n",
    "                \n"
   ]
  }
 ],
 "metadata": {
  "kernelspec": {
   "display_name": "Python 3 (ipykernel)",
   "language": "python",
   "name": "python3"
  },
  "language_info": {
   "codemirror_mode": {
    "name": "ipython",
    "version": 3
   },
   "file_extension": ".py",
   "mimetype": "text/x-python",
   "name": "python",
   "nbconvert_exporter": "python",
   "pygments_lexer": "ipython3",
   "version": "3.10.9"
  }
 },
 "nbformat": 4,
 "nbformat_minor": 5
}
