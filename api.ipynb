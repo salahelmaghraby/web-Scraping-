{
 "cells": [
  {
   "cell_type": "code",
   "execution_count": 3,
   "id": "3239519f",
   "metadata": {},
   "outputs": [
    {
     "data": {
      "text/plain": [
       "{'id': 52224,\n",
       " 'user_id': 3764796,\n",
       " 'title': 'Somnus vicinus triginta inflammatio comptus annus aeternus.',\n",
       " 'body': 'Impedit angulus quia. Inventore adeptio cedo. Vos voluptate somnus. Accendo tutamen ambitus. Caelestis agnosco titulus. Taedium certe pecco. Crapula nemo dolorem. Thermae ullam chirographum. Torrens vox crur. Cavus tum vobis. Temperantia copiose conturbo. Non decipio demum. Denique alii desparatus. Tollo et atqui. Veniam omnis cotidie. Celo turba valeo.'}"
      ]
     },
     "execution_count": 3,
     "metadata": {},
     "output_type": "execute_result"
    }
   ],
   "source": [
    "import requests\n",
    "import csv\n",
    "import bs4\n",
    "response = requests.get(\"https://gorest.co.in/public/v2/posts\")\n",
    "posts = response.json()\n",
    "posts[0]"
   ]
  },
  {
   "cell_type": "code",
   "execution_count": 13,
   "id": "94c537a0",
   "metadata": {},
   "outputs": [],
   "source": [
    "with open(\"posts.csv\", \"w+\", newline =\"\") as f:\n",
    "    writer = csv.DictWriter(f, fieldnames= [\"id\", \"user_id\", \"title\", \"body\"])\n",
    "    writer.writeheader()\n",
    "    for post in posts:\n",
    "        pos_id = post[\"id\"]\n",
    "        userid = post[\"user_id\"]\n",
    "        title = post[\"title\"]\n",
    "        body = post[\"body\"]\n",
    "        writer.writerow({\"user_id\" : userid , \"title\" : title , \"body\" : body, \"id\" : pos_id})\n",
    "\n",
    "                   "
   ]
  },
  {
   "cell_type": "code",
   "execution_count": 14,
   "id": "dd8b59da",
   "metadata": {},
   "outputs": [
    {
     "data": {
      "text/html": [
       "<div>\n",
       "<style scoped>\n",
       "    .dataframe tbody tr th:only-of-type {\n",
       "        vertical-align: middle;\n",
       "    }\n",
       "\n",
       "    .dataframe tbody tr th {\n",
       "        vertical-align: top;\n",
       "    }\n",
       "\n",
       "    .dataframe thead th {\n",
       "        text-align: right;\n",
       "    }\n",
       "</style>\n",
       "<table border=\"1\" class=\"dataframe\">\n",
       "  <thead>\n",
       "    <tr style=\"text-align: right;\">\n",
       "      <th></th>\n",
       "      <th>id</th>\n",
       "      <th>user_id</th>\n",
       "      <th>title</th>\n",
       "      <th>body</th>\n",
       "    </tr>\n",
       "  </thead>\n",
       "  <tbody>\n",
       "    <tr>\n",
       "      <th>0</th>\n",
       "      <td>52224</td>\n",
       "      <td>3764796</td>\n",
       "      <td>Somnus vicinus triginta inflammatio comptus an...</td>\n",
       "      <td>Impedit angulus quia. Inventore adeptio cedo. ...</td>\n",
       "    </tr>\n",
       "    <tr>\n",
       "      <th>1</th>\n",
       "      <td>52223</td>\n",
       "      <td>3764796</td>\n",
       "      <td>Cedo cinis asperiores adhuc ex concedo tibi quas.</td>\n",
       "      <td>Neque est aro. Creber timidus acceptus. Stella...</td>\n",
       "    </tr>\n",
       "    <tr>\n",
       "      <th>2</th>\n",
       "      <td>52218</td>\n",
       "      <td>3764789</td>\n",
       "      <td>Audentia aurum aliquid trans qui arcus molestias.</td>\n",
       "      <td>Solvo sapiente celebrer. Aut clarus trepide. T...</td>\n",
       "    </tr>\n",
       "    <tr>\n",
       "      <th>3</th>\n",
       "      <td>52217</td>\n",
       "      <td>3764789</td>\n",
       "      <td>Angustus peccatus umquam compello adsidue ipsa...</td>\n",
       "      <td>Aestas audacia mollitia. Coruscus censura tabe...</td>\n",
       "    </tr>\n",
       "    <tr>\n",
       "      <th>4</th>\n",
       "      <td>52214</td>\n",
       "      <td>3764786</td>\n",
       "      <td>Vel vestigium defluo strues vallum volaticus.</td>\n",
       "      <td>Curtus facere est. Ulciscor appello patior. In...</td>\n",
       "    </tr>\n",
       "    <tr>\n",
       "      <th>5</th>\n",
       "      <td>52213</td>\n",
       "      <td>3764786</td>\n",
       "      <td>Cubo spiculum accipio cotidie stella aperiam t...</td>\n",
       "      <td>Adficio paulatim officia. Arcesso audio ut. Ar...</td>\n",
       "    </tr>\n",
       "    <tr>\n",
       "      <th>6</th>\n",
       "      <td>52192</td>\n",
       "      <td>3764764</td>\n",
       "      <td>Alienus civitas conor volubilis adaugeo amarit...</td>\n",
       "      <td>Aeternus praesentium consequuntur. Perspiciati...</td>\n",
       "    </tr>\n",
       "    <tr>\n",
       "      <th>7</th>\n",
       "      <td>52191</td>\n",
       "      <td>3764764</td>\n",
       "      <td>Veritatis ultio est summisse amissio aestus vi...</td>\n",
       "      <td>Abduco et armo. Veniam amplitudo quia. Dolorem...</td>\n",
       "    </tr>\n",
       "    <tr>\n",
       "      <th>8</th>\n",
       "      <td>52188</td>\n",
       "      <td>3764761</td>\n",
       "      <td>Vel ipsam esse aptus textus curto ocer vigor v...</td>\n",
       "      <td>Adsum vorax thermae. Tergiversatio carcer expe...</td>\n",
       "    </tr>\n",
       "    <tr>\n",
       "      <th>9</th>\n",
       "      <td>52187</td>\n",
       "      <td>3764759</td>\n",
       "      <td>Demulceo velut tamisium thesis clarus assentat...</td>\n",
       "      <td>Consequuntur textilis amo. Certe odio accusant...</td>\n",
       "    </tr>\n",
       "  </tbody>\n",
       "</table>\n",
       "</div>"
      ],
      "text/plain": [
       "      id  user_id                                              title  \\\n",
       "0  52224  3764796  Somnus vicinus triginta inflammatio comptus an...   \n",
       "1  52223  3764796  Cedo cinis asperiores adhuc ex concedo tibi quas.   \n",
       "2  52218  3764789  Audentia aurum aliquid trans qui arcus molestias.   \n",
       "3  52217  3764789  Angustus peccatus umquam compello adsidue ipsa...   \n",
       "4  52214  3764786      Vel vestigium defluo strues vallum volaticus.   \n",
       "5  52213  3764786  Cubo spiculum accipio cotidie stella aperiam t...   \n",
       "6  52192  3764764  Alienus civitas conor volubilis adaugeo amarit...   \n",
       "7  52191  3764764  Veritatis ultio est summisse amissio aestus vi...   \n",
       "8  52188  3764761  Vel ipsam esse aptus textus curto ocer vigor v...   \n",
       "9  52187  3764759  Demulceo velut tamisium thesis clarus assentat...   \n",
       "\n",
       "                                                body  \n",
       "0  Impedit angulus quia. Inventore adeptio cedo. ...  \n",
       "1  Neque est aro. Creber timidus acceptus. Stella...  \n",
       "2  Solvo sapiente celebrer. Aut clarus trepide. T...  \n",
       "3  Aestas audacia mollitia. Coruscus censura tabe...  \n",
       "4  Curtus facere est. Ulciscor appello patior. In...  \n",
       "5  Adficio paulatim officia. Arcesso audio ut. Ar...  \n",
       "6  Aeternus praesentium consequuntur. Perspiciati...  \n",
       "7  Abduco et armo. Veniam amplitudo quia. Dolorem...  \n",
       "8  Adsum vorax thermae. Tergiversatio carcer expe...  \n",
       "9  Consequuntur textilis amo. Certe odio accusant...  "
      ]
     },
     "execution_count": 14,
     "metadata": {},
     "output_type": "execute_result"
    }
   ],
   "source": [
    "import pandas as pd\n",
    "pd.read_csv(\"posts.csv\")"
   ]
  },
  {
   "cell_type": "code",
   "execution_count": null,
   "id": "78c1d86d",
   "metadata": {},
   "outputs": [],
   "source": []
  }
 ],
 "metadata": {
  "kernelspec": {
   "display_name": "Python 3 (ipykernel)",
   "language": "python",
   "name": "python3"
  },
  "language_info": {
   "codemirror_mode": {
    "name": "ipython",
    "version": 3
   },
   "file_extension": ".py",
   "mimetype": "text/x-python",
   "name": "python",
   "nbconvert_exporter": "python",
   "pygments_lexer": "ipython3",
   "version": "3.10.9"
  }
 },
 "nbformat": 4,
 "nbformat_minor": 5
}
