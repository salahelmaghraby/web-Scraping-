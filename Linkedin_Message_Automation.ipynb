{
 "cells": [
  {
   "cell_type": "code",
   "execution_count": 2,
   "id": "4f3b31de",
   "metadata": {},
   "outputs": [],
   "source": [
    "from selenium import webdriver\n",
    "from selenium.webdriver.common.keys import Keys\n",
    "from selenium.webdriver.common.by import By\n",
    "from selenium.webdriver.support import expected_conditions as EC\n",
    "from selenium.webdriver.support.wait import WebDriverWait\n",
    "from selenium.webdriver.edge.service import Service as EdgeService\n",
    "from webdriver_manager.microsoft import EdgeChromiumDriverManager\n",
    "import time \n"
   ]
  },
  {
   "cell_type": "code",
   "execution_count": 5,
   "id": "26fe5cb1",
   "metadata": {},
   "outputs": [
    {
     "ename": "NoSuchElementException",
     "evalue": "Message: no such element: Unable to locate element: {\"method\":\"css selector\",\"selector\":\"div[aria-label='Write a message…']\"}\n  (Session info: MicrosoftEdge=115.0.1901.203); For documentation on this error, please visit: https://www.selenium.dev/documentation/webdriver/troubleshooting/errors#no-such-element-exception\nStacktrace:\nBacktrace:\n\tGetHandleVerifier [0x00007FF7C4EE5422+69586]\n\tMicrosoft::Applications::Events::EventProperty::~EventProperty [0x00007FF7C4E75662+760226]\n\t(No symbol) [0x00007FF7C4C2B8CC]\n\t(No symbol) [0x00007FF7C4C72C79]\n\t(No symbol) [0x00007FF7C4C72D8A]\n\t(No symbol) [0x00007FF7C4CAF007]\n\t(No symbol) [0x00007FF7C4C92DEF]\n\t(No symbol) [0x00007FF7C4C66A11]\n\t(No symbol) [0x00007FF7C4CAC241]\n\t(No symbol) [0x00007FF7C4C92B83]\n\t(No symbol) [0x00007FF7C4C6589E]\n\t(No symbol) [0x00007FF7C4C64B6B]\n\t(No symbol) [0x00007FF7C4C66024]\n\tMicrosoft::Applications::Events::ILogManager::DispatchEventBroadcast [0x00007FF7C50BD229+1294553]\n\t(No symbol) [0x00007FF7C4CE49F4]\n\tMicrosoft::Applications::Events::EventProperty::~EventProperty [0x00007FF7C4DC3DF1+33073]\n\tMicrosoft::Applications::Events::EventProperty::~EventProperty [0x00007FF7C4DBC409+1865]\n\tMicrosoft::Applications::Events::ILogManager::DispatchEventBroadcast [0x00007FF7C50BBE01+1289393]\n\tMicrosoft::Applications::Events::ILogConfiguration::operator* [0x00007FF7C4E7DC68+20184]\n\tMicrosoft::Applications::Events::ILogConfiguration::operator* [0x00007FF7C4E7A2F4+5476]\n\tMicrosoft::Applications::Events::ILogConfiguration::operator* [0x00007FF7C4E7A3EC+5724]\n\tMicrosoft::Applications::Events::EventProperty::~EventProperty [0x00007FF7C4E6ECA1+733153]\n\tBaseThreadInitThunk [0x00007FFF996826AD+29]\n\tRtlUserThreadStart [0x00007FFF9A9EAA68+40]\n",
     "output_type": "error",
     "traceback": [
      "\u001b[1;31m---------------------------------------------------------------------------\u001b[0m",
      "\u001b[1;31mNoSuchElementException\u001b[0m                    Traceback (most recent call last)",
      "Cell \u001b[1;32mIn[5], line 13\u001b[0m\n\u001b[0;32m     11\u001b[0m \u001b[38;5;28;01mfor\u001b[39;00m btn \u001b[38;5;129;01min\u001b[39;00m all_buttons:\n\u001b[0;32m     12\u001b[0m     btn\u001b[38;5;241m.\u001b[39mclick()\n\u001b[1;32m---> 13\u001b[0m     massage_area \u001b[38;5;241m=\u001b[39m \u001b[43mdriver\u001b[49m\u001b[38;5;241;43m.\u001b[39;49m\u001b[43mfind_element\u001b[49m\u001b[43m(\u001b[49m\u001b[43mBy\u001b[49m\u001b[38;5;241;43m.\u001b[39;49m\u001b[43mCSS_SELECTOR\u001b[49m\u001b[43m,\u001b[49m\u001b[43m \u001b[49m\u001b[38;5;124;43m\"\u001b[39;49m\u001b[38;5;124;43mdiv[aria-label=\u001b[39;49m\u001b[38;5;124;43m'\u001b[39;49m\u001b[38;5;124;43mWrite a message…\u001b[39;49m\u001b[38;5;124;43m'\u001b[39;49m\u001b[38;5;124;43m]\u001b[39;49m\u001b[38;5;124;43m\"\u001b[39;49m\u001b[43m)\u001b[49m\n\u001b[0;32m     14\u001b[0m     massage_area\u001b[38;5;241m.\u001b[39mclick()\n\u001b[0;32m     15\u001b[0m     massage_area\u001b[38;5;241m.\u001b[39msend_keys(\u001b[38;5;124m\"\u001b[39m\u001b[38;5;124mtype your massage here\u001b[39m\u001b[38;5;124m\"\u001b[39m)\n",
      "File \u001b[1;32m~\\anaconda3\\lib\\site-packages\\selenium\\webdriver\\remote\\webdriver.py:739\u001b[0m, in \u001b[0;36mWebDriver.find_element\u001b[1;34m(self, by, value)\u001b[0m\n\u001b[0;32m    736\u001b[0m     by \u001b[38;5;241m=\u001b[39m By\u001b[38;5;241m.\u001b[39mCSS_SELECTOR\n\u001b[0;32m    737\u001b[0m     value \u001b[38;5;241m=\u001b[39m \u001b[38;5;124mf\u001b[39m\u001b[38;5;124m'\u001b[39m\u001b[38;5;124m[name=\u001b[39m\u001b[38;5;124m\"\u001b[39m\u001b[38;5;132;01m{\u001b[39;00mvalue\u001b[38;5;132;01m}\u001b[39;00m\u001b[38;5;124m\"\u001b[39m\u001b[38;5;124m]\u001b[39m\u001b[38;5;124m'\u001b[39m\n\u001b[1;32m--> 739\u001b[0m \u001b[38;5;28;01mreturn\u001b[39;00m \u001b[38;5;28;43mself\u001b[39;49m\u001b[38;5;241;43m.\u001b[39;49m\u001b[43mexecute\u001b[49m\u001b[43m(\u001b[49m\u001b[43mCommand\u001b[49m\u001b[38;5;241;43m.\u001b[39;49m\u001b[43mFIND_ELEMENT\u001b[49m\u001b[43m,\u001b[49m\u001b[43m \u001b[49m\u001b[43m{\u001b[49m\u001b[38;5;124;43m\"\u001b[39;49m\u001b[38;5;124;43musing\u001b[39;49m\u001b[38;5;124;43m\"\u001b[39;49m\u001b[43m:\u001b[49m\u001b[43m \u001b[49m\u001b[43mby\u001b[49m\u001b[43m,\u001b[49m\u001b[43m \u001b[49m\u001b[38;5;124;43m\"\u001b[39;49m\u001b[38;5;124;43mvalue\u001b[39;49m\u001b[38;5;124;43m\"\u001b[39;49m\u001b[43m:\u001b[49m\u001b[43m \u001b[49m\u001b[43mvalue\u001b[49m\u001b[43m}\u001b[49m\u001b[43m)\u001b[49m[\u001b[38;5;124m\"\u001b[39m\u001b[38;5;124mvalue\u001b[39m\u001b[38;5;124m\"\u001b[39m]\n",
      "File \u001b[1;32m~\\anaconda3\\lib\\site-packages\\selenium\\webdriver\\remote\\webdriver.py:345\u001b[0m, in \u001b[0;36mWebDriver.execute\u001b[1;34m(self, driver_command, params)\u001b[0m\n\u001b[0;32m    343\u001b[0m response \u001b[38;5;241m=\u001b[39m \u001b[38;5;28mself\u001b[39m\u001b[38;5;241m.\u001b[39mcommand_executor\u001b[38;5;241m.\u001b[39mexecute(driver_command, params)\n\u001b[0;32m    344\u001b[0m \u001b[38;5;28;01mif\u001b[39;00m response:\n\u001b[1;32m--> 345\u001b[0m     \u001b[38;5;28;43mself\u001b[39;49m\u001b[38;5;241;43m.\u001b[39;49m\u001b[43merror_handler\u001b[49m\u001b[38;5;241;43m.\u001b[39;49m\u001b[43mcheck_response\u001b[49m\u001b[43m(\u001b[49m\u001b[43mresponse\u001b[49m\u001b[43m)\u001b[49m\n\u001b[0;32m    346\u001b[0m     response[\u001b[38;5;124m\"\u001b[39m\u001b[38;5;124mvalue\u001b[39m\u001b[38;5;124m\"\u001b[39m] \u001b[38;5;241m=\u001b[39m \u001b[38;5;28mself\u001b[39m\u001b[38;5;241m.\u001b[39m_unwrap_value(response\u001b[38;5;241m.\u001b[39mget(\u001b[38;5;124m\"\u001b[39m\u001b[38;5;124mvalue\u001b[39m\u001b[38;5;124m\"\u001b[39m, \u001b[38;5;28;01mNone\u001b[39;00m))\n\u001b[0;32m    347\u001b[0m     \u001b[38;5;28;01mreturn\u001b[39;00m response\n",
      "File \u001b[1;32m~\\anaconda3\\lib\\site-packages\\selenium\\webdriver\\remote\\errorhandler.py:229\u001b[0m, in \u001b[0;36mErrorHandler.check_response\u001b[1;34m(self, response)\u001b[0m\n\u001b[0;32m    227\u001b[0m         alert_text \u001b[38;5;241m=\u001b[39m value[\u001b[38;5;124m\"\u001b[39m\u001b[38;5;124malert\u001b[39m\u001b[38;5;124m\"\u001b[39m]\u001b[38;5;241m.\u001b[39mget(\u001b[38;5;124m\"\u001b[39m\u001b[38;5;124mtext\u001b[39m\u001b[38;5;124m\"\u001b[39m)\n\u001b[0;32m    228\u001b[0m     \u001b[38;5;28;01mraise\u001b[39;00m exception_class(message, screen, stacktrace, alert_text)  \u001b[38;5;66;03m# type: ignore[call-arg]  # mypy is not smart enough here\u001b[39;00m\n\u001b[1;32m--> 229\u001b[0m \u001b[38;5;28;01mraise\u001b[39;00m exception_class(message, screen, stacktrace)\n",
      "\u001b[1;31mNoSuchElementException\u001b[0m: Message: no such element: Unable to locate element: {\"method\":\"css selector\",\"selector\":\"div[aria-label='Write a message…']\"}\n  (Session info: MicrosoftEdge=115.0.1901.203); For documentation on this error, please visit: https://www.selenium.dev/documentation/webdriver/troubleshooting/errors#no-such-element-exception\nStacktrace:\nBacktrace:\n\tGetHandleVerifier [0x00007FF7C4EE5422+69586]\n\tMicrosoft::Applications::Events::EventProperty::~EventProperty [0x00007FF7C4E75662+760226]\n\t(No symbol) [0x00007FF7C4C2B8CC]\n\t(No symbol) [0x00007FF7C4C72C79]\n\t(No symbol) [0x00007FF7C4C72D8A]\n\t(No symbol) [0x00007FF7C4CAF007]\n\t(No symbol) [0x00007FF7C4C92DEF]\n\t(No symbol) [0x00007FF7C4C66A11]\n\t(No symbol) [0x00007FF7C4CAC241]\n\t(No symbol) [0x00007FF7C4C92B83]\n\t(No symbol) [0x00007FF7C4C6589E]\n\t(No symbol) [0x00007FF7C4C64B6B]\n\t(No symbol) [0x00007FF7C4C66024]\n\tMicrosoft::Applications::Events::ILogManager::DispatchEventBroadcast [0x00007FF7C50BD229+1294553]\n\t(No symbol) [0x00007FF7C4CE49F4]\n\tMicrosoft::Applications::Events::EventProperty::~EventProperty [0x00007FF7C4DC3DF1+33073]\n\tMicrosoft::Applications::Events::EventProperty::~EventProperty [0x00007FF7C4DBC409+1865]\n\tMicrosoft::Applications::Events::ILogManager::DispatchEventBroadcast [0x00007FF7C50BBE01+1289393]\n\tMicrosoft::Applications::Events::ILogConfiguration::operator* [0x00007FF7C4E7DC68+20184]\n\tMicrosoft::Applications::Events::ILogConfiguration::operator* [0x00007FF7C4E7A2F4+5476]\n\tMicrosoft::Applications::Events::ILogConfiguration::operator* [0x00007FF7C4E7A3EC+5724]\n\tMicrosoft::Applications::Events::EventProperty::~EventProperty [0x00007FF7C4E6ECA1+733153]\n\tBaseThreadInitThunk [0x00007FFF996826AD+29]\n\tRtlUserThreadStart [0x00007FFF9A9EAA68+40]\n"
     ]
    }
   ],
   "source": [
    "driver = webdriver.Edge(service=EdgeService(EdgeChromiumDriverManager().install()))\n",
    "driver.get(\"https://www.linkedin.com\")\n",
    "time.sleep(5)\n",
    "username = WebDriverWait(driver, 10).until(EC.element_to_be_clickable((By.CSS_SELECTOR,\"input[autocomplete='username']\")))\n",
    "password = WebDriverWait(driver, 10).until(EC.element_to_be_clickable((By.CSS_SELECTOR,\"input[autocomplete='current-password']\")))\n",
    "username.send_keys(\"salahelmaghraby74@gmail.com\")\n",
    "password.send_keys(\"sasasasa\")\n",
    "submit = WebDriverWait(driver, 10).until(EC.element_to_be_clickable((By.CSS_SELECTOR,\"button[type='submit']\"))).click()\n",
    "driver.get(\"https://www.linkedin.com/search/results/people/?network=%5B%22F%22%2C%22S%22%2C%22O%22%5D&origin=FACETED_SEARCH&page=2&sid=DHS\")\n",
    "all_buttons = driver.find_elements(By.CSS_SELECTOR, \"button[aria-label='Message ']\")\n",
    "for btn in all_buttons:\n",
    "    btn.click()\n",
    "    massage_area = driver.find_element(By.CSS_SELECTOR, \"div[aria-label='Write a message…']\")\n",
    "    massage_area.click()\n",
    "    massage_area.send_keys(\"type your massage here\")\n",
    "    send = driver.find_element(By.CSS_SELECTOR, \"button[type='submit']\")\n",
    "    driver.execute_script(\"arguments[0].click();\", send)\n",
    "    close = driver.find_element(By.CSS_SELECTOR, \"button[type='close']\").click()\n",
    "    driver.execute_script(\"arguments[0].click();\", close)\n"
   ]
  },
  {
   "cell_type": "code",
   "execution_count": null,
   "id": "bd5a4c13",
   "metadata": {},
   "outputs": [],
   "source": []
  }
 ],
 "metadata": {
  "kernelspec": {
   "display_name": "Python 3 (ipykernel)",
   "language": "python",
   "name": "python3"
  },
  "language_info": {
   "codemirror_mode": {
    "name": "ipython",
    "version": 3
   },
   "file_extension": ".py",
   "mimetype": "text/x-python",
   "name": "python",
   "nbconvert_exporter": "python",
   "pygments_lexer": "ipython3",
   "version": "3.10.9"
  }
 },
 "nbformat": 4,
 "nbformat_minor": 5
}
