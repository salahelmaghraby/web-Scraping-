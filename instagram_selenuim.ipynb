{
 "cells": [
  {
   "cell_type": "code",
   "execution_count": null,
   "id": "31903726",
   "metadata": {},
   "outputs": [],
   "source": [
    "from selenium import webdriver\n",
    "from selenium.webdriver.common.keys import Keys\n",
    "from selenium.webdriver.support import expected_conditions as EC\n",
    "from selenium.webdriver.common.by import By\n",
    "from selenium.webdriver.support.wait import WebDriverWait\n",
    "from selenium.webdriver.edge.service import Service as EdgeService\n",
    "from webdriver_manager.microsoft import EdgeChromiumDriverManager\n",
    "import time \n"
   ]
  },
  {
   "cell_type": "code",
   "execution_count": null,
   "id": "464b5c0b",
   "metadata": {},
   "outputs": [],
   "source": [
    "driver = webdriver.Edge(service=EdgeService(EdgeChromiumDriverManager().install()))\n",
    "driver.get(\"https://www.instagram.com/\")\n",
    "username = WebDriverWait(driver, 10).until(EC.element_to_be_clickable((By.CSS_SELECTOR,\"input[name='username']\")))\n",
    "password = WebDriverWait(driver, 10).until(EC.element_to_be_clickable((By.CSS_SELECTOR, \"input[name='password']\")))\n",
    "username.clear()\n",
    "username.send_keys(\"salahelmaghraby@gmail.com\")\n",
    "password.clear()\n",
    "password.send_keys(\"********\")\n",
    "log_in = WebDriverWait(driver, 10).until(EC.element_to_be_clickable((By.CSS_SELECTOR, \"button[type='submit']\"))).click()\n",
    "time.sleep(5)\n",
    "not_now = WebDriverWait(driver, 10).until(EC.element_to_be_clickable((By.CSS_SELECTOR, \"div[role='button']\"))).click()\n",
    "time.sleep(5)\n",
    "not_now2 = WebDriverWait(driver, 10).until(EC.element_to_be_clickable((By.CSS_SELECTOR, \"button[class='_a9-- _a9_1']\"))).click()\n",
    "clicksb = WebDriverWait(driver, 10).until(EC.element_to_be_clickable((By.CSS_SELECTOR, \"svg[aria-label='Search']\"))).click()\n",
    "searchbox = WebDriverWait(driver, 20).until(EC.element_to_be_clickable((By.CSS_SELECTOR, \"input[placeholder='Search']\")))\n",
    "searchbox.clear()\n",
    "keyword = \"#car\"\n",
    "searchbox.send_keys(keyword)\n",
    "clicksr = WebDriverWait(driver, 10).until(EC.element_to_be_clickable((By.CSS_SELECTOR, \"div[class='x9f619 xjbqb8w x78zum5 x168nmei x13lgxp2 x5pf9jr xo71vjh x1uhb9sk x1plvlek xryxfnj x1iyjqo2 x2lwn1j xeuugli xdt5ytf xqjyukv x1cy8zhl x1oa3qoh x1nhvcw1']\"))).click()\n",
    "\n"
   ]
  },
  {
   "cell_type": "code",
   "execution_count": null,
   "id": "b7a61f56",
   "metadata": {},
   "outputs": [],
   "source": [
    "driver.execute_script(\"window.scrollTo(0, 4000);\")"
   ]
  },
  {
   "cell_type": "code",
   "execution_count": null,
   "id": "6ce011bc",
   "metadata": {},
   "outputs": [],
   "source": [
    "images = driver.find_elements(By.TAG_NAME, 'img')\n",
    "images = [image.get_attribute('src') for image in images]\n"
   ]
  },
  {
   "cell_type": "code",
   "execution_count": null,
   "id": "4ef7841f",
   "metadata": {},
   "outputs": [],
   "source": [
    "import os \n",
    "import wget"
   ]
  },
  {
   "cell_type": "code",
   "execution_count": null,
   "id": "767671ad",
   "metadata": {},
   "outputs": [],
   "source": [
    "path = os.getcwd()\n",
    "path = os.path.join(path,keyword[1:])\n",
    "os.mkdir(path)\n"
   ]
  },
  {
   "cell_type": "code",
   "execution_count": null,
   "id": "d8b446e0",
   "metadata": {},
   "outputs": [],
   "source": [
    "counter = 0\n",
    "for i in range(2,len(images)):\n",
    "    save_as = os.path.join(path, keyword[1:] + str(counter) + '.jpg')\n",
    "    wget.download(image, save_as)\n",
    "    counter += 1"
   ]
  }
 ],
 "metadata": {
  "kernelspec": {
   "display_name": "Python 3 (ipykernel)",
   "language": "python",
   "name": "python3"
  },
  "language_info": {
   "codemirror_mode": {
    "name": "ipython",
    "version": 3
   },
   "file_extension": ".py",
   "mimetype": "text/x-python",
   "name": "python",
   "nbconvert_exporter": "python",
   "pygments_lexer": "ipython3",
   "version": "3.10.9"
  }
 },
 "nbformat": 4,
 "nbformat_minor": 5
}
