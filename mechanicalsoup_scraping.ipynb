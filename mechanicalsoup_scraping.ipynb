{
 "cells": [
  {
   "cell_type": "code",
   "execution_count": null,
   "id": "0bb7db1a",
   "metadata": {},
   "outputs": [],
   "source": [
    "import mechanicalsoup\n",
    "import pandas as pd"
   ]
  },
  {
   "cell_type": "code",
   "execution_count": null,
   "id": "ee106f06",
   "metadata": {},
   "outputs": [],
   "source": [
    "browser = mechanicalsoup.StatefulBrowser()\n",
    "browser.open(\"https://en.wikipedia.org/wiki/Comparison_of_Linux_distributions\")\n",
    "th = browser.page.find_all(\"th\", attrs={\"class\":\"table-rh\"})\n",
    "th_text = []\n",
    "for value in th:\n",
    "    th_text += [value.text.strip(\"\\n\")]"
   ]
  },
  {
   "cell_type": "code",
   "execution_count": null,
   "id": "9c2d004d",
   "metadata": {},
   "outputs": [],
   "source": [
    "td = browser.page.find_all(\"td\")\n",
    "td_text = []\n",
    "for value in td:\n",
    "    td_text += [value.text.strip(\"\\n\")]\n",
    "td_text = td_text[6:1085]"
   ]
  },
  {
   "cell_type": "code",
   "execution_count": null,
   "id": "01a3952a",
   "metadata": {},
   "outputs": [],
   "source": [
    "  column_names = [\"Founder\", \n",
    "                \"Maintainer\", \n",
    "                \"Initial_Release_Year\", \n",
    "                \"Current_Stable_Version\", \n",
    "                \"Security_Updates\", \n",
    "                \"Release_Date\", \n",
    "                \"System_Distribution_Commitment\", \n",
    "                \"Forked_From\", \n",
    "                \"Target_Audience\", \n",
    "                \"Cost\", \n",
    "                \"Status\"]\n",
    "dicto = {\"Distribution\" : th_text}\n",
    "for idx, key in enumerate(column_names):\n",
    "    dicto[key] = column_names[idx:][::11]\n",
    "df = pd.DataFrame(data=dicto)\n",
    "print(df)"
   ]
  }
 ],
 "metadata": {
  "kernelspec": {
   "display_name": "Python 3 (ipykernel)",
   "language": "python",
   "name": "python3"
  },
  "language_info": {
   "codemirror_mode": {
    "name": "ipython",
    "version": 3
   },
   "file_extension": ".py",
   "mimetype": "text/x-python",
   "name": "python",
   "nbconvert_exporter": "python",
   "pygments_lexer": "ipython3",
   "version": "3.10.9"
  }
 },
 "nbformat": 4,
 "nbformat_minor": 5
}
